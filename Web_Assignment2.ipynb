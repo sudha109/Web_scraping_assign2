{
 "cells": [
  {
   "cell_type": "code",
   "execution_count": null,
   "metadata": {},
   "outputs": [],
   "source": [
    "import selenium\n",
    "import pandas as pd\n",
    "from selenium import webdriver"
   ]
  },
  {
   "cell_type": "markdown",
   "metadata": {},
   "source": [
    "### 1. Program to scrape data for “Data Analyst” Job position in “Bangalore” location. You have to scrape the job-title, job-location, company_name, experience_required"
   ]
  },
  {
   "cell_type": "code",
   "execution_count": null,
   "metadata": {},
   "outputs": [],
   "source": [
    "driver=webdriver.Chrome(r\"C:\\Users\\eshan\\Downloads\\chromedriver_win32\\chromedriver.exe\")"
   ]
  },
  {
   "cell_type": "code",
   "execution_count": null,
   "metadata": {},
   "outputs": [],
   "source": [
    "url=\"https://www.naukri.com/data-analyst-jobs-in-bangalore?k=data%20analyst&l=bangalore\""
   ]
  },
  {
   "cell_type": "code",
   "execution_count": null,
   "metadata": {},
   "outputs": [],
   "source": [
    "driver.get(url)"
   ]
  },
  {
   "cell_type": "code",
   "execution_count": null,
   "metadata": {},
   "outputs": [],
   "source": [
    "job_listings=[]\n",
    "company_name=[]\n",
    "experience=[]\n",
    "salary=[]\n"
   ]
  },
  {
   "cell_type": "code",
   "execution_count": null,
   "metadata": {},
   "outputs": [],
   "source": [
    "job=driver.find_elements_by_xpath(\"//a[@class='title fw500 ellipsis']\")\n",
    "job"
   ]
  },
  {
   "cell_type": "code",
   "execution_count": null,
   "metadata": {},
   "outputs": [],
   "source": [
    "for i in job:\n",
    "    job_list=i.text\n",
    "    job_listings.append(job_list)"
   ]
  },
  {
   "cell_type": "code",
   "execution_count": null,
   "metadata": {},
   "outputs": [],
   "source": [
    "job_listings"
   ]
  },
  {
   "cell_type": "code",
   "execution_count": null,
   "metadata": {},
   "outputs": [],
   "source": [
    "com=driver.find_elements_by_xpath(\"//a[@class='subTitle ellipsis fleft']\")\n",
    "com"
   ]
  },
  {
   "cell_type": "code",
   "execution_count": null,
   "metadata": {},
   "outputs": [],
   "source": [
    "for i in com:\n",
    "    comp=i.text\n",
    "    company_name.append(comp)"
   ]
  },
  {
   "cell_type": "code",
   "execution_count": null,
   "metadata": {},
   "outputs": [],
   "source": [
    "company_name[10:]"
   ]
  },
  {
   "cell_type": "code",
   "execution_count": null,
   "metadata": {},
   "outputs": [],
   "source": [
    "exp=driver.find_elements_by_xpath(\"//li[@class='fleft grey-text br2 placeHolderLi experience']//span\")\n",
    "exp"
   ]
  },
  {
   "cell_type": "code",
   "execution_count": null,
   "metadata": {},
   "outputs": [],
   "source": [
    "for i in exp:\n",
    "    expe=i.text\n",
    "    experience.append(expe)"
   ]
  },
  {
   "cell_type": "code",
   "execution_count": null,
   "metadata": {},
   "outputs": [],
   "source": [
    "experience"
   ]
  },
  {
   "cell_type": "code",
   "execution_count": null,
   "metadata": {},
   "outputs": [],
   "source": [
    "sal=driver.find_elements_by_xpath(\"//li[@class='fleft grey-text br2 placeHolderLi salary']//span\")\n",
    "sal"
   ]
  },
  {
   "cell_type": "code",
   "execution_count": null,
   "metadata": {},
   "outputs": [],
   "source": [
    "for i in sal:\n",
    "    saly=i.text\n",
    "    salary.append(saly)"
   ]
  },
  {
   "cell_type": "code",
   "execution_count": null,
   "metadata": {},
   "outputs": [],
   "source": [
    "salary"
   ]
  },
  {
   "cell_type": "code",
   "execution_count": null,
   "metadata": {},
   "outputs": [],
   "source": [
    "result=pd.DataFrame({})\n",
    "result['job_listings']=job_listings\n",
    "result['company_name']=company_name\n",
    "result['experience']=experience\n",
    "result['salary']=salary"
   ]
  },
  {
   "cell_type": "code",
   "execution_count": null,
   "metadata": {},
   "outputs": [],
   "source": [
    "result[:10]"
   ]
  },
  {
   "cell_type": "markdown",
   "metadata": {},
   "source": [
    "### 2.Program to scrape data for “Data Scientist” Job position in “Bangalore” location. You have to scrape the job-title, job-location, company_name, full job-description."
   ]
  },
  {
   "cell_type": "code",
   "execution_count": null,
   "metadata": {},
   "outputs": [],
   "source": [
    "import selenium\n",
    "from selenium import webdriver\n",
    "import pandas as pd "
   ]
  },
  {
   "cell_type": "code",
   "execution_count": null,
   "metadata": {},
   "outputs": [],
   "source": [
    "driver=webdriver.Chrome(r\"C:\\Users\\eshan\\Downloads\\chromedriver_win32\\chromedriver.exe\")"
   ]
  },
  {
   "cell_type": "code",
   "execution_count": null,
   "metadata": {},
   "outputs": [],
   "source": [
    "url=\"https://www.naukri.com/datascientist-machine-learning-jobs-in-bangalore?k=datascientist%2C%20machine%20learning&l=bangalore\""
   ]
  },
  {
   "cell_type": "code",
   "execution_count": null,
   "metadata": {},
   "outputs": [],
   "source": [
    "driver.get(url)"
   ]
  },
  {
   "cell_type": "code",
   "execution_count": null,
   "metadata": {},
   "outputs": [],
   "source": [
    "job_title=[]\n",
    "job_location=[]\n",
    "company_name=[]\n",
    "full_job_description=[]"
   ]
  },
  {
   "cell_type": "code",
   "execution_count": null,
   "metadata": {},
   "outputs": [],
   "source": [
    "url=\"https://www.naukri.com/job-listings-hcl-is-hiring-for-ai-ml-engineers-hcl-technologies-limited-chennai-bengaluru-bangalore-greater-noida-5-to-10-years-301120003621?src=jobsearchDesk&sid=16072507177396407_1&xp=1&px=1\""
   ]
  },
  {
   "cell_type": "code",
   "execution_count": null,
   "metadata": {},
   "outputs": [],
   "source": [
    "driver.get(url)"
   ]
  },
  {
   "cell_type": "code",
   "execution_count": null,
   "metadata": {},
   "outputs": [],
   "source": [
    "name=driver.find_elements_by_xpath(\"//h1[@class='av-special-heading-tag ']\")\n",
    "\n",
    "for i in name:\n",
    "    company=i.text\n",
    "    company_name.append(company)\n",
    "    \n",
    "    company_name\n",
    "    "
   ]
  },
  {
   "cell_type": "code",
   "execution_count": null,
   "metadata": {},
   "outputs": [],
   "source": [
    "desc=driver.find_elements_by_xpath(\"//div[@class='clearboth description']//ul\")\n",
    "desc\n"
   ]
  },
  {
   "cell_type": "code",
   "execution_count": null,
   "metadata": {},
   "outputs": [],
   "source": [
    "for i in desc:\n",
    "    des=i.get_attribute(\"innerText\")\n",
    "    des"
   ]
  },
  {
   "cell_type": "code",
   "execution_count": null,
   "metadata": {},
   "outputs": [],
   "source": [
    "des"
   ]
  },
  {
   "cell_type": "markdown",
   "metadata": {},
   "source": [
    "### 3.Scrape data using the filters available on the webpage "
   ]
  },
  {
   "cell_type": "code",
   "execution_count": null,
   "metadata": {},
   "outputs": [],
   "source": [
    "import selenium\n",
    "from selenium import webdriver\n",
    "import pandas as pd"
   ]
  },
  {
   "cell_type": "code",
   "execution_count": null,
   "metadata": {},
   "outputs": [],
   "source": [
    "driver=webdriver.Chrome(r\"C:\\Users\\eshan\\Downloads\\chromedriver_win32\\chromedriver.exe\")"
   ]
  },
  {
   "cell_type": "code",
   "execution_count": null,
   "metadata": {},
   "outputs": [],
   "source": [
    "url=\"https://www.naukri.com/data-scientist-jobs?k=data%20scientist&cityType=25.9.31&ctcFilter=3to6\""
   ]
  },
  {
   "cell_type": "code",
   "execution_count": null,
   "metadata": {},
   "outputs": [],
   "source": [
    "driver.get(url)"
   ]
  },
  {
   "cell_type": "code",
   "execution_count": null,
   "metadata": {},
   "outputs": [],
   "source": [
    "job_title=[]\n",
    "job_location=[]\n",
    "company_name=[]\n",
    "experience_required=[]"
   ]
  },
  {
   "cell_type": "code",
   "execution_count": null,
   "metadata": {},
   "outputs": [],
   "source": [
    "title=driver.find_elements_by_xpath(\"//a[@class='title fw500 ellipsis']\")\n",
    "title"
   ]
  },
  {
   "cell_type": "code",
   "execution_count": null,
   "metadata": {},
   "outputs": [],
   "source": [
    "for i in title:\n",
    "    job=i.text\n",
    "    job_title.append(job)"
   ]
  },
  {
   "cell_type": "code",
   "execution_count": null,
   "metadata": {},
   "outputs": [],
   "source": [
    "job_title"
   ]
  },
  {
   "cell_type": "code",
   "execution_count": null,
   "metadata": {},
   "outputs": [],
   "source": [
    "location=driver.find_elements_by_xpath(\"//li[@class='fleft grey-text br2 placeHolderLi location']//span\")\n",
    "location"
   ]
  },
  {
   "cell_type": "code",
   "execution_count": null,
   "metadata": {},
   "outputs": [],
   "source": [
    "for i in location:\n",
    "    loc=i.text\n",
    "    job_location.append(loc)"
   ]
  },
  {
   "cell_type": "code",
   "execution_count": null,
   "metadata": {},
   "outputs": [],
   "source": [
    "job_location"
   ]
  },
  {
   "cell_type": "code",
   "execution_count": null,
   "metadata": {},
   "outputs": [],
   "source": [
    "company=driver.find_elements_by_xpath(\"//a[@class='subTitle ellipsis fleft']\")\n",
    "company"
   ]
  },
  {
   "cell_type": "code",
   "execution_count": null,
   "metadata": {},
   "outputs": [],
   "source": [
    "for i in company:\n",
    "    name=i.text\n",
    "    company_name.append(name)"
   ]
  },
  {
   "cell_type": "code",
   "execution_count": null,
   "metadata": {},
   "outputs": [],
   "source": [
    "company_name"
   ]
  },
  {
   "cell_type": "code",
   "execution_count": null,
   "metadata": {},
   "outputs": [],
   "source": [
    "experience=driver.find_elements_by_xpath(\"//li[@class='fleft grey-text br2 placeHolderLi experience']//span\")\n",
    "experience"
   ]
  },
  {
   "cell_type": "code",
   "execution_count": null,
   "metadata": {},
   "outputs": [],
   "source": [
    "for i in experience:\n",
    "    exp=i.text\n",
    "    experience_required.append(exp)"
   ]
  },
  {
   "cell_type": "code",
   "execution_count": null,
   "metadata": {},
   "outputs": [],
   "source": [
    "experience_required"
   ]
  },
  {
   "cell_type": "code",
   "execution_count": null,
   "metadata": {},
   "outputs": [],
   "source": [
    "result=pd.DataFrame({})\n",
    "result['job_title']=job_title\n",
    "result['job_location']=job_location\n",
    "result['company_name']=company_name\n",
    "result['experience_required']=experience_required\n"
   ]
  },
  {
   "cell_type": "code",
   "execution_count": null,
   "metadata": {},
   "outputs": [],
   "source": [
    "result[:10]"
   ]
  },
  {
   "cell_type": "markdown",
   "metadata": {},
   "source": [
    "### 4. Program to scrape data for first 10 job results for Data scientist Designation in Noida location. You have to scrape company_name, No. of days ago when job was posted, Rating of the company.\n"
   ]
  },
  {
   "cell_type": "code",
   "execution_count": null,
   "metadata": {},
   "outputs": [],
   "source": [
    "import selenium\n",
    "from selenium import webdriver\n",
    "import pandas as pd"
   ]
  },
  {
   "cell_type": "code",
   "execution_count": null,
   "metadata": {},
   "outputs": [],
   "source": [
    "driver=webdriver.Chrome(r\"C:\\Users\\eshan\\Downloads\\chromedriver_win32\\chromedriver.exe\")"
   ]
  },
  {
   "cell_type": "code",
   "execution_count": null,
   "metadata": {},
   "outputs": [],
   "source": [
    "url=\"https://www.glassdoor.co.in/Job/noida-data-scientist-jobs-SRCH_IL.0,5_IC4477468_KO6,20.htm\""
   ]
  },
  {
   "cell_type": "code",
   "execution_count": null,
   "metadata": {},
   "outputs": [],
   "source": [
    "driver.get(url)"
   ]
  },
  {
   "cell_type": "code",
   "execution_count": null,
   "metadata": {},
   "outputs": [],
   "source": [
    "company_name=[]\n",
    "no_of_days_posted=[]\n",
    "ratings=[]"
   ]
  },
  {
   "cell_type": "code",
   "execution_count": null,
   "metadata": {},
   "outputs": [],
   "source": [
    "company=driver.find_elements_by_xpath(\"//a[@class=' css-10l5u4p e1n63ojh0 jobLink']\")\n",
    "company "
   ]
  },
  {
   "cell_type": "code",
   "execution_count": null,
   "metadata": {},
   "outputs": [],
   "source": [
    "for i in company:\n",
    "    name=i.text\n",
    "    company_name.append(name)"
   ]
  },
  {
   "cell_type": "code",
   "execution_count": null,
   "metadata": {},
   "outputs": [],
   "source": [
    "company_name[:10]"
   ]
  },
  {
   "cell_type": "code",
   "execution_count": null,
   "metadata": {},
   "outputs": [],
   "source": [
    "number=driver.find_elements_by_xpath(\"//div[@class='d-flex align-items-end pl-std css-mi55ob']\")\n",
    "number"
   ]
  },
  {
   "cell_type": "code",
   "execution_count": null,
   "metadata": {},
   "outputs": [],
   "source": [
    "for i in number:\n",
    "    num=i.text\n",
    "    no_of_days_posted.append(num)"
   ]
  },
  {
   "cell_type": "code",
   "execution_count": null,
   "metadata": {},
   "outputs": [],
   "source": [
    "no_of_days_posted[:10]"
   ]
  },
  {
   "cell_type": "code",
   "execution_count": null,
   "metadata": {},
   "outputs": [],
   "source": [
    "rating=driver.find_elements_by_xpath(\"//span[@class='compactStars ']\")\n",
    "rating"
   ]
  },
  {
   "cell_type": "code",
   "execution_count": null,
   "metadata": {},
   "outputs": [],
   "source": [
    "for i in rating:\n",
    "    rate=i.text.strip()\n",
    "    ratings.append(rate)"
   ]
  },
  {
   "cell_type": "code",
   "execution_count": null,
   "metadata": {},
   "outputs": [],
   "source": [
    "ratings"
   ]
  },
  {
   "cell_type": "code",
   "execution_count": null,
   "metadata": {},
   "outputs": [],
   "source": [
    "rating = driver.find_elements_by_xpath(\"//span[@class='compactStars ']\")\n",
    "for rating in ratings:\n",
    "    \n",
    "    if (rating != \"\" or rating.strip()):\n",
    "        print(rating)\n",
    "        ratings.append(rating)\n",
    "    else:\n",
    "        print(rating)\n",
    "        ratings.append(\"No comments\")"
   ]
  },
  {
   "cell_type": "code",
   "execution_count": null,
   "metadata": {},
   "outputs": [],
   "source": [
    "ratings[:10] "
   ]
  },
  {
   "cell_type": "code",
   "execution_count": null,
   "metadata": {},
   "outputs": [],
   "source": [
    "final=pd.DataFrame({})\n",
    "final['company_name']=company_name\n",
    "final['no_of_days_posted']=no_of_days_posted\n",
    "#final['ratings']=final['ratings'].apply(lambda x: x.str.replace('.*', '').reset_index(drop=True).set_value(0, x.values[0])).values\n",
    "final['ratings'] = final.groupby('ratings'['ratings'].apply(lambda x: x.str.replace('.*', '').set_value(len(x) // 2, x.values[0], True)).values "
   ]
  },
  {
   "cell_type": "markdown",
   "metadata": {},
   "source": [
    "## 5. Glass door "
   ]
  },
  {
   "cell_type": "code",
   "execution_count": null,
   "metadata": {},
   "outputs": [],
   "source": [
    "import selenium\n",
    "from selenium import webdriver\n",
    "import pandas as pd"
   ]
  },
  {
   "cell_type": "code",
   "execution_count": null,
   "metadata": {},
   "outputs": [],
   "source": [
    "driver=webdriver.Chrome(r\"C:\\Users\\eshan\\Downloads\\chromedriver_win32\\chromedriver.exe\")"
   ]
  },
  {
   "cell_type": "code",
   "execution_count": null,
   "metadata": {},
   "outputs": [],
   "source": [
    "url=\"https://www.glassdoor.co.in/Salaries/new-delhi-data-scientist-salary-SRCH_IL.0,9_IM1083_KO10,24.htm?clickSource=searchBtn\""
   ]
  },
  {
   "cell_type": "code",
   "execution_count": null,
   "metadata": {},
   "outputs": [],
   "source": [
    "driver.get(url)"
   ]
  },
  {
   "cell_type": "code",
   "execution_count": null,
   "metadata": {},
   "outputs": [],
   "source": [
    "salary=[]\n",
    "min_salary=[]\n",
    "max_salary=[]\n",
    "company_name=[]\n",
    "Average_salary=[]\n",
    "rating=[]"
   ]
  },
  {
   "cell_type": "code",
   "execution_count": null,
   "metadata": {},
   "outputs": [],
   "source": [
    "company=driver.find_elements_by_xpath(\"//p[@class='m-0'][2]\")\n",
    "company"
   ]
  },
  {
   "cell_type": "code",
   "execution_count": null,
   "metadata": {},
   "outputs": [],
   "source": [
    "for i in company:\n",
    "    com=i.text\n",
    "    company_name.append(com)"
   ]
  },
  {
   "cell_type": "code",
   "execution_count": null,
   "metadata": {},
   "outputs": [],
   "source": [
    "company_name"
   ]
  },
  {
   "cell_type": "code",
   "execution_count": null,
   "metadata": {},
   "outputs": [],
   "source": [
    "sal=driver.find_elements_by_xpath(\"//p[@class='d-block d-md-none m-0 css-1kuy7z7']\")\n",
    "sal"
   ]
  },
  {
   "cell_type": "code",
   "execution_count": null,
   "metadata": {},
   "outputs": [],
   "source": [
    "for i in sal:\n",
    "    s=i.get_attribute(\"innerText\")\n",
    "    salary.append(s)\n",
    "    #text.split(\":\")[-1].strip()"
   ]
  },
  {
   "cell_type": "code",
   "execution_count": null,
   "metadata": {},
   "outputs": [],
   "source": [
    "salary"
   ]
  },
  {
   "cell_type": "code",
   "execution_count": null,
   "metadata": {},
   "outputs": [],
   "source": [
    "avg_sal=driver.find_elements_by_xpath(\"//p[@class='d-block d-md-none m-0']//strong\")\n",
    "avg_sal"
   ]
  },
  {
   "cell_type": "code",
   "execution_count": null,
   "metadata": {},
   "outputs": [],
   "source": [
    "for i in avg_sal:\n",
    "    avg=i.get_attribute(\"innerText\")\n",
    "    Average_salary.append(avg)"
   ]
  },
  {
   "cell_type": "code",
   "execution_count": null,
   "metadata": {},
   "outputs": [],
   "source": [
    "Average_salary"
   ]
  },
  {
   "cell_type": "code",
   "execution_count": null,
   "metadata": {},
   "outputs": [],
   "source": [
    "min_sal=driver.find_elements_by_xpath(\"//div[@class='common__RangeBarStyle__values common__flex__justifySpaceBetween common__flex__container ']/span[1]\")\n",
    "min_sal"
   ]
  },
  {
   "cell_type": "code",
   "execution_count": null,
   "metadata": {},
   "outputs": [],
   "source": [
    "for i in min_sal:\n",
    "    min_=i.text\n",
    "    min_salary.append(min_)\n",
    "    "
   ]
  },
  {
   "cell_type": "code",
   "execution_count": null,
   "metadata": {},
   "outputs": [],
   "source": [
    "min_salary"
   ]
  },
  {
   "cell_type": "code",
   "execution_count": null,
   "metadata": {},
   "outputs": [],
   "source": [
    "max_sal=driver.find_elements_by_xpath(\"//div[@class='common__RangeBarStyle__values common__flex__justifySpaceBetween common__flex__container ']/span[2]\")\n",
    "max_sal"
   ]
  },
  {
   "cell_type": "code",
   "execution_count": null,
   "metadata": {},
   "outputs": [],
   "source": [
    "for i in max_sal:\n",
    "    max_=i.text\n",
    "    max_salary.append(max_)"
   ]
  },
  {
   "cell_type": "code",
   "execution_count": null,
   "metadata": {},
   "outputs": [],
   "source": [
    "max_salary"
   ]
  },
  {
   "cell_type": "code",
   "execution_count": null,
   "metadata": {},
   "outputs": [],
   "source": [
    "driver.find_element_by_xpath(\"//p[@class='m-0']//a\").click()"
   ]
  },
  {
   "cell_type": "code",
   "execution_count": null,
   "metadata": {},
   "outputs": [],
   "source": [
    "driver.find_elements_by_xpath(\"//a[@class='eiCell cell reviews ']\").click()"
   ]
  },
  {
   "cell_type": "code",
   "execution_count": null,
   "metadata": {},
   "outputs": [],
   "source": [
    "rating=driver.find_elements_by_xpath(\"//div[@class='v2__EIReviewsRatingsStylesV2__ratingInfo']//span[@class='rating']\")\n",
    "rating"
   ]
  },
  {
   "cell_type": "code",
   "execution_count": null,
   "metadata": {},
   "outputs": [],
   "source": [
    "for i in rating:\n",
    "    rate=i.text\n",
    "    ratings.append(rate)"
   ]
  },
  {
   "cell_type": "code",
   "execution_count": null,
   "metadata": {},
   "outputs": [],
   "source": [
    "ratings"
   ]
  },
  {
   "cell_type": "code",
   "execution_count": null,
   "metadata": {},
   "outputs": [],
   "source": [
    "final=pd.DataFrame({})\n",
    "final['company_name']=company_name\n",
    "final['min_salary']=min_salary\n",
    "final['max_salary']=max_salary\n",
    "final['Average_salary']=Average_salary\n"
   ]
  },
  {
   "cell_type": "code",
   "execution_count": null,
   "metadata": {},
   "outputs": [],
   "source": [
    "final[:10]"
   ]
  },
  {
   "cell_type": "markdown",
   "metadata": {},
   "source": [
    "### 6. Data of first 100 sunglasses listings on flipkart.com. You have to scrape four attributes:"
   ]
  },
  {
   "cell_type": "code",
   "execution_count": null,
   "metadata": {},
   "outputs": [],
   "source": [
    "import selenium\n",
    "from selenium import webdriver\n",
    "import pandas as pd  "
   ]
  },
  {
   "cell_type": "code",
   "execution_count": null,
   "metadata": {},
   "outputs": [],
   "source": [
    "driver=webdriver.Chrome(r\"C:\\Users\\eshan\\Downloads\\chromedriver_win32\\chromedriver.exe\")"
   ]
  },
  {
   "cell_type": "code",
   "execution_count": null,
   "metadata": {},
   "outputs": [],
   "source": [
    "url=\"https://www.flipkart.com/search?q=sunglasses&otracker=search&otracker1=search&marketplace=FLIPKART&as-show=on&as=off\""
   ]
  },
  {
   "cell_type": "code",
   "execution_count": null,
   "metadata": {},
   "outputs": [],
   "source": [
    "driver.get(url)"
   ]
  },
  {
   "cell_type": "code",
   "execution_count": null,
   "metadata": {},
   "outputs": [],
   "source": [
    "Brand=[]\n",
    "Product_Description=[]\n",
    "Price=[]\n",
    "Discount=[]"
   ]
  },
  {
   "cell_type": "code",
   "execution_count": null,
   "metadata": {},
   "outputs": [],
   "source": [
    "brand=driver.find_elements_by_xpath(\"//div[@class='_2WkVRV']\")\n",
    "product=driver.find_elements_by_xpath(\"//a[@class='IRpwTa']\")\n",
    "price=driver.find_elements_by_xpath(\"//div[@class='_30jeq3']\")\n",
    "discount=driver.find_elements_by_xpath(\"//div[@class='_3Ay6Sb']//span\")\n",
    "\n",
    "\n",
    "for i in brand:\n",
    "    name=i.text\n",
    "    Brand.append(name)\n",
    "    \n",
    "for i in product:\n",
    "    prod=i.text\n",
    "    Product_Description.append(prod)\n",
    "    \n",
    "for i in price:\n",
    "    pric=i.text\n",
    "    Price.append(pric)\n",
    "    \n",
    "for i in discount:\n",
    "    disc=i.text\n",
    "    Discount.append(disc)\n",
    "    \n",
    "    \n",
    "print(Brand)\n",
    "print('\\n')\n",
    "print(Product_Description)\n",
    "print('\\n')\n",
    "print(Price)\n",
    "print('\\n')\n",
    "print(Discount)\n",
    "\n"
   ]
  },
  {
   "cell_type": "code",
   "execution_count": null,
   "metadata": {},
   "outputs": [],
   "source": [
    "driver.find_element_by_xpath(\"//a[@class='_1LKTO3']\").click()"
   ]
  },
  {
   "cell_type": "code",
   "execution_count": null,
   "metadata": {},
   "outputs": [],
   "source": [
    "brand=driver.find_elements_by_xpath(\"//div[@class='_2WkVRV']\")\n",
    "product=driver.find_elements_by_xpath(\"//a[@class='IRpwTa']\")\n",
    "price=driver.find_elements_by_xpath(\"//div[@class='_30jeq3']\")\n",
    "discount=driver.find_elements_by_xpath(\"//div[@class='_3Ay6Sb']//span\")\n",
    "\n",
    "\n",
    "for i in brand:\n",
    "    name=i.text\n",
    "    Brand.append(name)\n",
    "    \n",
    "for i in product:\n",
    "    prod=i.text\n",
    "    Product_Description.append(prod)\n",
    "    \n",
    "for i in price:\n",
    "    pric=i.text\n",
    "    Price.append(pric)\n",
    "    \n",
    "for i in discount:\n",
    "    disc=i.text\n",
    "    Discount.append(disc)\n",
    "    \n",
    "    \n",
    "print(Brand)\n",
    "print('\\n')\n",
    "print(Product_Description)\n",
    "print('\\n')\n",
    "print(Price)\n",
    "print('\\n')\n",
    "print(Discount)\n"
   ]
  },
  {
   "cell_type": "code",
   "execution_count": null,
   "metadata": {},
   "outputs": [],
   "source": [
    "driver.find_element_by_xpath(\"//a[@class='_1LKTO3']\").click()"
   ]
  },
  {
   "cell_type": "code",
   "execution_count": null,
   "metadata": {},
   "outputs": [],
   "source": [
    "brand=driver.find_elements_by_xpath(\"//div[@class='_2WkVRV']\")\n",
    "product=driver.find_elements_by_xpath(\"//a[@class='IRpwTa']\")\n",
    "price=driver.find_elements_by_xpath(\"//div[@class='_30jeq3']\")\n",
    "discount=driver.find_elements_by_xpath(\"//div[@class='_3Ay6Sb']//span\")\n",
    "\n",
    "\n",
    "for i in brand:\n",
    "    name=i.text\n",
    "    Brand.append(name)\n",
    "    \n",
    "for i in product:\n",
    "    prod=i.text\n",
    "    Product_Description.append(prod)\n",
    "    \n",
    "for i in price:\n",
    "    pric=i.text\n",
    "    Price.append(pric)\n",
    "    \n",
    "for i in discount:\n",
    "    disc=i.text\n",
    "    Discount.append(disc)\n",
    "    \n",
    "    \n",
    "print(Brand)\n",
    "print('\\n')\n",
    "print(Product_Description)\n",
    "print('\\n')\n",
    "print(Price)\n",
    "print('\\n')\n",
    "print(Discount)\n",
    "\n"
   ]
  },
  {
   "cell_type": "code",
   "execution_count": null,
   "metadata": {},
   "outputs": [],
   "source": [
    "print(Brand[:100])\n",
    "print('\\n')\n",
    "print(Product_Description[:100])\n",
    "print('\\n')\n",
    "print(Price[:100])\n",
    "print('\\n')\n",
    "print(Discount[:100])"
   ]
  },
  {
   "cell_type": "markdown",
   "metadata": {},
   "source": [
    "### 7.100 reviews data from flipkart.com for iphone11 phone. "
   ]
  },
  {
   "cell_type": "code",
   "execution_count": null,
   "metadata": {},
   "outputs": [],
   "source": [
    "import selenium\n",
    "from selenium import webdriver\n"
   ]
  },
  {
   "cell_type": "code",
   "execution_count": null,
   "metadata": {},
   "outputs": [],
   "source": [
    "driver=webdriver.Chrome(r\"C:\\Users\\eshan\\Downloads\\chromedriver_win32\\chromedriver.exe\")"
   ]
  },
  {
   "cell_type": "code",
   "execution_count": null,
   "metadata": {},
   "outputs": [],
   "source": [
    "url=\"https://www.flipkart.com/apple-iphone-11-black-64-gb-includes-earpods-power-adapter/p/itm0f37c2240b217?pid=MOBFKCTSVZAXUHGR&lid=LSTMOBFKCTSVZAXUHGREPBFGI&marketplace\""
   ]
  },
  {
   "cell_type": "code",
   "execution_count": null,
   "metadata": {},
   "outputs": [],
   "source": [
    "driver.get(url)"
   ]
  },
  {
   "cell_type": "code",
   "execution_count": null,
   "metadata": {},
   "outputs": [],
   "source": [
    "Rating=[]\n",
    "Review_summary=[]\n",
    "Full_review=[]"
   ]
  },
  {
   "cell_type": "code",
   "execution_count": null,
   "metadata": {},
   "outputs": [],
   "source": [
    "rate=driver.find_elements_by_xpath(\"//div[@class='_3LWZlK _1BLPMq']\")\n",
    "review=driver.find_elements_by_xpath(\"//p[@class='_2-N8zT']\")\n",
    "full_review=driver.find_elements_by_xpath(\"//div[@class='t-ZTKy']//div//div\")\n",
    "\n",
    "\n",
    "for i in rate:\n",
    "    rat=i.text\n",
    "    Rating.append(rat)\n",
    "    \n",
    "for i in review:\n",
    "    rev=i.text\n",
    "    Review_summary.append(rev)\n",
    "    \n",
    "for i in full_review:\n",
    "    full=i.get_attribute(\"innerText\")\n",
    "    Full_review.append(full)\n",
    "    \n",
    "\n",
    "print(Rating)\n",
    "print('\\n')\n",
    "print(Review_summary)\n",
    "print('\\n')\n",
    "print(Full_review)\n"
   ]
  },
  {
   "cell_type": "code",
   "execution_count": null,
   "metadata": {},
   "outputs": [],
   "source": [
    "driver.find_element_by_xpath(\"//a[@class='_1LKTO3']\").click()"
   ]
  },
  {
   "cell_type": "code",
   "execution_count": null,
   "metadata": {},
   "outputs": [],
   "source": [
    "rate=driver.find_elements_by_xpath(\"//div[@class='_3LWZlK _1BLPMq']\")\n",
    "review=driver.find_elements_by_xpath(\"//p[@class='_2-N8zT']\")\n",
    "full_review=driver.find_elements_by_xpath(\"//div[@class='t-ZTKy']//div//div\")\n",
    "\n",
    "\n",
    "for i in rate:\n",
    "    rat=i.text\n",
    "    Rating.append(rat)\n",
    "    \n",
    "for i in review:\n",
    "    rev=i.text\n",
    "    Review_summary.append(rev)\n",
    "    \n",
    "for i in full_review:\n",
    "    full=i.get_attribute(\"innerText\")\n",
    "    Full_review.append(full)\n",
    "    \n",
    "\n",
    "print(Rating)\n",
    "print('\\n')\n",
    "print(Review_summary)\n",
    "print('\\n')\n",
    "print(Full_review)"
   ]
  },
  {
   "cell_type": "code",
   "execution_count": null,
   "metadata": {},
   "outputs": [],
   "source": [
    "driver.find_element_by_xpath(\"//a[@class='_1LKTO3']\").click()"
   ]
  },
  {
   "cell_type": "code",
   "execution_count": null,
   "metadata": {},
   "outputs": [],
   "source": [
    "rate=driver.find_elements_by_xpath(\"//div[@class='_3LWZlK _1BLPMq']\")\n",
    "review=driver.find_elements_by_xpath(\"//p[@class='_2-N8zT']\")\n",
    "full_review=driver.find_elements_by_xpath(\"//div[@class='t-ZTKy']//div//div\")\n",
    "\n",
    "\n",
    "for i in rate:\n",
    "    rat=i.text\n",
    "    Rating.append(rat)\n",
    "    \n",
    "for i in review:\n",
    "    rev=i.text\n",
    "    Review_summary.append(rev)\n",
    "    \n",
    "for i in full_review:\n",
    "    full=i.get_attribute(\"innerText\")\n",
    "    Full_review.append(full)\n",
    "    \n",
    "\n",
    "print(Rating)\n",
    "print('\\n')\n",
    "print(Review_summary)\n",
    "print('\\n')\n",
    "print(Full_review)"
   ]
  },
  {
   "cell_type": "code",
   "execution_count": null,
   "metadata": {},
   "outputs": [],
   "source": [
    "driver.find_element_by_xpath(\"//a[@class='_1LKTO3']\").click()"
   ]
  },
  {
   "cell_type": "code",
   "execution_count": null,
   "metadata": {},
   "outputs": [],
   "source": [
    "rate=driver.find_elements_by_xpath(\"//div[@class='_3LWZlK _1BLPMq']\")\n",
    "review=driver.find_elements_by_xpath(\"//p[@class='_2-N8zT']\")\n",
    "full_review=driver.find_elements_by_xpath(\"//div[@class='t-ZTKy']//div//div\")\n",
    "\n",
    "\n",
    "for i in rate:\n",
    "    rat=i.text\n",
    "    Rating.append(rat)\n",
    "    \n",
    "for i in review:\n",
    "    rev=i.text\n",
    "    Review_summary.append(rev)\n",
    "    \n",
    "for i in full_review:\n",
    "    full=i.get_attribute(\"innerText\")\n",
    "    Full_review.append(full)\n",
    "    \n",
    "\n",
    "print(Rating)\n",
    "print('\\n')\n",
    "print(Review_summary)\n",
    "print('\\n')\n",
    "print(Full_review)"
   ]
  },
  {
   "cell_type": "code",
   "execution_count": null,
   "metadata": {},
   "outputs": [],
   "source": [
    "driver.find_element_by_xpath(\"//a[@class='_1LKTO3']\").click()"
   ]
  },
  {
   "cell_type": "code",
   "execution_count": null,
   "metadata": {},
   "outputs": [],
   "source": [
    "rate=driver.find_elements_by_xpath(\"//div[@class='_3LWZlK _1BLPMq']\")\n",
    "review=driver.find_elements_by_xpath(\"//p[@class='_2-N8zT']\")\n",
    "full_review=driver.find_elements_by_xpath(\"//div[@class='t-ZTKy']//div//div\")\n",
    "\n",
    "\n",
    "for i in rate:\n",
    "    rat=i.text\n",
    "    Rating.append(rat)\n",
    "    \n",
    "for i in review:\n",
    "    rev=i.text\n",
    "    Review_summary.append(rev)\n",
    "    \n",
    "for i in full_review:\n",
    "    full=i.get_attribute(\"innerText\")\n",
    "    Full_review.append(full)\n",
    "    \n",
    "\n",
    "print(Rating)\n",
    "print('\\n')\n",
    "print(Review_summary)\n",
    "print('\\n')\n",
    "print(Full_review)"
   ]
  },
  {
   "cell_type": "code",
   "execution_count": null,
   "metadata": {},
   "outputs": [],
   "source": [
    "driver.find_element_by_xpath(\"//a[@class='_1LKTO3']\").click()"
   ]
  },
  {
   "cell_type": "code",
   "execution_count": null,
   "metadata": {},
   "outputs": [],
   "source": [
    "rate=driver.find_elements_by_xpath(\"//div[@class='_3LWZlK _1BLPMq']\")\n",
    "review=driver.find_elements_by_xpath(\"//p[@class='_2-N8zT']\")\n",
    "full_review=driver.find_elements_by_xpath(\"//div[@class='t-ZTKy']//div//div\")\n",
    "\n",
    "\n",
    "for i in rate:\n",
    "    rat=i.text\n",
    "    Rating.append(rat)\n",
    "    \n",
    "for i in review:\n",
    "    rev=i.text\n",
    "    Review_summary.append(rev)\n",
    "    \n",
    "for i in full_review:\n",
    "    full=i.get_attribute(\"innerText\")\n",
    "    Full_review.append(full)\n",
    "    \n",
    "\n",
    "print(Rating)\n",
    "print('\\n')\n",
    "print(Review_summary)\n",
    "print('\\n')\n",
    "print(Full_review)"
   ]
  },
  {
   "cell_type": "code",
   "execution_count": null,
   "metadata": {},
   "outputs": [],
   "source": [
    "driver.find_element_by_xpath(\"//a[@class='_1LKTO3']\").click()"
   ]
  },
  {
   "cell_type": "code",
   "execution_count": null,
   "metadata": {},
   "outputs": [],
   "source": [
    "rate=driver.find_elements_by_xpath(\"//div[@class='_3LWZlK _1BLPMq']\")\n",
    "review=driver.find_elements_by_xpath(\"//p[@class='_2-N8zT']\")\n",
    "full_review=driver.find_elements_by_xpath(\"//div[@class='t-ZTKy']//div//div\")\n",
    "\n",
    "\n",
    "for i in rate:\n",
    "    rat=i.text\n",
    "    Rating.append(rat)\n",
    "    \n",
    "for i in review:\n",
    "    rev=i.text\n",
    "    Review_summary.append(rev)\n",
    "    \n",
    "for i in full_review:\n",
    "    full=i.get_attribute(\"innerText\")\n",
    "    Full_review.append(full)\n",
    "    \n",
    "\n",
    "print(Rating)\n",
    "print('\\n')\n",
    "print(Review_summary)\n",
    "print('\\n')\n",
    "print(Full_review)"
   ]
  },
  {
   "cell_type": "code",
   "execution_count": null,
   "metadata": {},
   "outputs": [],
   "source": [
    "driver.find_element_by_xpath(\"//a[@class='_1LKTO3']\").click()"
   ]
  },
  {
   "cell_type": "code",
   "execution_count": null,
   "metadata": {},
   "outputs": [],
   "source": [
    "rate=driver.find_elements_by_xpath(\"//div[@class='_3LWZlK _1BLPMq']\")\n",
    "review=driver.find_elements_by_xpath(\"//p[@class='_2-N8zT']\")\n",
    "full_review=driver.find_elements_by_xpath(\"//div[@class='t-ZTKy']//div//div\")\n",
    "\n",
    "\n",
    "for i in rate:\n",
    "    rat=i.text\n",
    "    Rating.append(rat)\n",
    "    \n",
    "for i in review:\n",
    "    rev=i.text\n",
    "    Review_summary.append(rev)\n",
    "    \n",
    "for i in full_review:\n",
    "    full=i.get_attribute(\"innerText\")\n",
    "    Full_review.append(full)\n",
    "    \n",
    "\n",
    "print(Rating)\n",
    "print('\\n')\n",
    "print(Review_summary)\n",
    "print('\\n')\n",
    "print(Full_review)"
   ]
  },
  {
   "cell_type": "code",
   "execution_count": null,
   "metadata": {},
   "outputs": [],
   "source": [
    "driver.find_element_by_xpath(\"//a[@class='_1LKTO3']\").click()"
   ]
  },
  {
   "cell_type": "code",
   "execution_count": null,
   "metadata": {},
   "outputs": [],
   "source": [
    "rate=driver.find_elements_by_xpath(\"//div[@class='_3LWZlK _1BLPMq']\")\n",
    "review=driver.find_elements_by_xpath(\"//p[@class='_2-N8zT']\")\n",
    "full_review=driver.find_elements_by_xpath(\"//div[@class='t-ZTKy']//div//div\")\n",
    "\n",
    "\n",
    "for i in rate:\n",
    "    rat=i.text\n",
    "    Rating.append(rat)\n",
    "    \n",
    "for i in review:\n",
    "    rev=i.text\n",
    "    Review_summary.append(rev)\n",
    "    \n",
    "for i in full_review:\n",
    "    full=i.get_attribute(\"innerText\")\n",
    "    Full_review.append(full)\n",
    "    \n",
    "\n",
    "print(Rating)\n",
    "print('\\n')\n",
    "print(Review_summary)\n",
    "print('\\n')\n",
    "print(Full_review)"
   ]
  },
  {
   "cell_type": "code",
   "execution_count": null,
   "metadata": {},
   "outputs": [],
   "source": [
    "Rating[:100]"
   ]
  },
  {
   "cell_type": "code",
   "execution_count": null,
   "metadata": {},
   "outputs": [],
   "source": [
    "Review_summary[:100]"
   ]
  },
  {
   "cell_type": "code",
   "execution_count": null,
   "metadata": {},
   "outputs": [],
   "source": [
    "Full_review[:100]"
   ]
  },
  {
   "cell_type": "markdown",
   "metadata": {},
   "source": [
    "### 8.Data for first 100 sneakers you find when you visit flipkart.com and search for “sneakers” in the search field."
   ]
  },
  {
   "cell_type": "code",
   "execution_count": null,
   "metadata": {},
   "outputs": [],
   "source": [
    "import selenium\n",
    "from selenium import webdriver"
   ]
  },
  {
   "cell_type": "code",
   "execution_count": null,
   "metadata": {},
   "outputs": [],
   "source": [
    "driver=webdriver.Chrome(r\"C:\\Users\\eshan\\Downloads\\chromedriver_win32\\chromedriver.exe\")"
   ]
  },
  {
   "cell_type": "code",
   "execution_count": null,
   "metadata": {},
   "outputs": [],
   "source": [
    "url=\"https://www.flipkart.com/search?q=sneakers&as=on&as-show=on&otracker=AS_Query_HistoryAutoSuggest_1_8_na_na_na&otracker1=AS_Query_HistoryAutoSuggest_1_8_na_na_na&as-pos=1&as-type=HISTORY&suggestionId=sneakers&requestId=824e1231-3923-474e-8be4-8abeeb216283&as-searchtext=sneakers\""
   ]
  },
  {
   "cell_type": "code",
   "execution_count": null,
   "metadata": {},
   "outputs": [],
   "source": [
    "driver.get(url)"
   ]
  },
  {
   "cell_type": "code",
   "execution_count": null,
   "metadata": {},
   "outputs": [],
   "source": [
    "Brand=[]\n",
    "Product_Description=[]\n",
    "Price=[]\n",
    "Discount=[]"
   ]
  },
  {
   "cell_type": "code",
   "execution_count": null,
   "metadata": {},
   "outputs": [],
   "source": [
    "brand=driver.find_elements_by_xpath(\"//div[@class='_2WkVRV']\")\n",
    "product=driver.find_elements_by_xpath(\"//a[@class='IRpwTa _2-ICcC']\")\n",
    "product_des=driver.find_elements_by_xpath(\"//a[@class='IRpwTa']\")\n",
    "price=driver.find_elements_by_xpath(\"//div[@class='_30jeq3']\")\n",
    "discount=driver.find_elements_by_xpath(\"//div[@class='_3Ay6Sb']//span\")\n",
    "\n",
    "\n",
    "for i in brand:\n",
    "    name=i.text\n",
    "    Brand.append(name)\n",
    "    \n",
    "for i in product:\n",
    "    prod=i.text\n",
    "    Product_Description.append(prod)\n",
    "\n",
    "for i in product_des:\n",
    "    pro=i.text\n",
    "    Product_Description.append(pro)\n",
    "    \n",
    "    \n",
    "for i in price:\n",
    "    pri=i.text\n",
    "    Price.append(pri)\n",
    "    \n",
    "for i in discount:\n",
    "    disc=i.text\n",
    "    Discount.append(disc)\n",
    "    \n",
    "print(Brand)\n",
    "print('\\n')\n",
    "print(Product_Description)\n",
    "print('\\n')\n",
    "print(Price)\n",
    "print('\\n')\n",
    "print(Discount)"
   ]
  },
  {
   "cell_type": "code",
   "execution_count": null,
   "metadata": {},
   "outputs": [],
   "source": [
    "driver.find_element_by_xpath(\"//a[@class='_1LKTO3']\").click()"
   ]
  },
  {
   "cell_type": "code",
   "execution_count": null,
   "metadata": {},
   "outputs": [],
   "source": [
    "brand=driver.find_elements_by_xpath(\"//div[@class='_2WkVRV']\")\n",
    "product=driver.find_elements_by_xpath(\"//a[@class='IRpwTa _2-ICcC']\")\n",
    "product_des=driver.find_elements_by_xpath(\"//a[@class='IRpwTa']\")\n",
    "price=driver.find_elements_by_xpath(\"//div[@class='_30jeq3']\")\n",
    "discount=driver.find_elements_by_xpath(\"//div[@class='_3Ay6Sb']//span\")\n",
    "\n",
    "\n",
    "for i in brand:\n",
    "    name=i.text\n",
    "    Brand.append(name)\n",
    "    \n",
    "for i in product:\n",
    "    prod=i.text\n",
    "    Product_Description.append(prod)\n",
    "\n",
    "for i in product_des:\n",
    "    pro=i.text\n",
    "    Product_Description.append(pro)\n",
    "    \n",
    "    \n",
    "for i in price:\n",
    "    pri=i.text\n",
    "    Price.append(pri)\n",
    "    \n",
    "for i in discount:\n",
    "    disc=i.text\n",
    "    Discount.append(disc)\n",
    "    \n",
    "print(Brand)\n",
    "print('\\n')\n",
    "print(Product_Description)\n",
    "print('\\n')\n",
    "print(Price)\n",
    "print('\\n')\n",
    "print(Discount)"
   ]
  },
  {
   "cell_type": "code",
   "execution_count": null,
   "metadata": {},
   "outputs": [],
   "source": [
    "driver.find_element_by_xpath(\"//a[@class='_1LKTO3']\").click()"
   ]
  },
  {
   "cell_type": "code",
   "execution_count": null,
   "metadata": {},
   "outputs": [],
   "source": [
    "brand=driver.find_elements_by_xpath(\"//div[@class='_2WkVRV']\")\n",
    "product=driver.find_elements_by_xpath(\"//a[@class='IRpwTa _2-ICcC']\")\n",
    "product_des=driver.find_elements_by_xpath(\"//a[@class='IRpwTa']\")\n",
    "price=driver.find_elements_by_xpath(\"//div[@class='_30jeq3']\")\n",
    "discount=driver.find_elements_by_xpath(\"//div[@class='_3Ay6Sb']//span\")\n",
    "\n",
    "\n",
    "for i in brand:\n",
    "    name=i.text\n",
    "    Brand.append(name)\n",
    "    \n",
    "for i in product:\n",
    "    prod=i.text\n",
    "    Product_Description.append(prod)\n",
    "\n",
    "for i in product_des:\n",
    "    pro=i.text\n",
    "    Product_Description.append(pro)\n",
    "    \n",
    "    \n",
    "for i in price:\n",
    "    pri=i.text\n",
    "    Price.append(pri)\n",
    "    \n",
    "for i in discount:\n",
    "    disc=i.text\n",
    "    Discount.append(disc)\n",
    "    \n",
    "print(Brand)\n",
    "print('\\n')\n",
    "print(Product_Description)\n",
    "print('\\n')\n",
    "print(Price)\n",
    "print('\\n')\n",
    "print(Discount)"
   ]
  },
  {
   "cell_type": "code",
   "execution_count": null,
   "metadata": {},
   "outputs": [],
   "source": [
    "Brand[:100]"
   ]
  },
  {
   "cell_type": "code",
   "execution_count": null,
   "metadata": {},
   "outputs": [],
   "source": [
    "Product_Description[:100]"
   ]
  },
  {
   "cell_type": "code",
   "execution_count": null,
   "metadata": {},
   "outputs": [],
   "source": [
    "Price[:100]"
   ]
  },
  {
   "cell_type": "code",
   "execution_count": null,
   "metadata": {},
   "outputs": [],
   "source": [
    "Discount[:100]"
   ]
  },
  {
   "cell_type": "markdown",
   "metadata": {},
   "source": [
    "### 9. Scrape First 100 shoes data you get from Myntra.com"
   ]
  },
  {
   "cell_type": "code",
   "execution_count": null,
   "metadata": {},
   "outputs": [],
   "source": [
    "import selenium\n",
    "from selenium import webdriver"
   ]
  },
  {
   "cell_type": "code",
   "execution_count": null,
   "metadata": {},
   "outputs": [],
   "source": [
    "driver=webdriver.Chrome(r\"C:\\Users\\eshan\\Downloads\\chromedriver_win32\\chromedriver.exe\")"
   ]
  },
  {
   "cell_type": "code",
   "execution_count": null,
   "metadata": {},
   "outputs": [],
   "source": [
    "url=\"https://www.myntra.com/shoes?f=Color%3ABlack_36454f&plaEnabled=false&rf=Price%3A6619.0_13079.0_6619.0%20TO%2013079.0\""
   ]
  },
  {
   "cell_type": "code",
   "execution_count": null,
   "metadata": {},
   "outputs": [],
   "source": [
    "driver.get(url)"
   ]
  },
  {
   "cell_type": "code",
   "execution_count": null,
   "metadata": {},
   "outputs": [],
   "source": [
    "Brand=[]\n",
    "Short_Shoe_description=[]\n",
    "Price=[]"
   ]
  },
  {
   "cell_type": "code",
   "execution_count": null,
   "metadata": {},
   "outputs": [],
   "source": [
    "brand=driver.find_elements_by_xpath(\"//h3[@class='product-brand']\")\n",
    "shoe_description=driver.find_elements_by_xpath(\"//h4[@class='product-product']\")\n",
    "price=driver.find_elements_by_xpath(\"//div[@class='product-price']//span\")\n",
    "\n",
    "\n",
    "for i in brand:\n",
    "    name=i.text\n",
    "    Brand.append(name)\n",
    "    \n",
    "for i in shoe_description:\n",
    "    shoe=i.text\n",
    "    Short_Shoe_description.append(shoe)\n",
    "    \n",
    "for i in price:\n",
    "    pri=i.text\n",
    "    Price.append(pri)\n",
    "    \n",
    "    \n",
    "print(Brand)\n",
    "print('\\n')\n",
    "print(Short_Shoe_description)\n",
    "print('\\n')\n",
    "print(Price)"
   ]
  },
  {
   "cell_type": "code",
   "execution_count": null,
   "metadata": {},
   "outputs": [],
   "source": [
    "driver.find_element_by_xpath(\"//li[@class='pagination-next']/a\").click()"
   ]
  },
  {
   "cell_type": "code",
   "execution_count": null,
   "metadata": {},
   "outputs": [],
   "source": [
    "brand=driver.find_elements_by_xpath(\"//h3[@class='product-brand']\")\n",
    "shoe_description=driver.find_elements_by_xpath(\"//h4[@class='product-product']\")\n",
    "price=driver.find_elements_by_xpath(\"//div[@class='product-price']//span\")\n",
    "\n",
    "\n",
    "for i in brand:\n",
    "    name=i.text\n",
    "    Brand.append(name)\n",
    "    \n",
    "for i in shoe_description:\n",
    "    shoe=i.text\n",
    "    Short_Shoe_description.append(shoe)\n",
    "    \n",
    "for i in price:\n",
    "    pri=i.text\n",
    "    Price.append(pri)\n",
    "    \n",
    "    \n",
    "print(Brand)\n",
    "print('\\n')\n",
    "print(Short_Shoe_description)\n",
    "print('\\n')\n",
    "print(Price)"
   ]
  },
  {
   "cell_type": "code",
   "execution_count": null,
   "metadata": {},
   "outputs": [],
   "source": [
    "Brand[:100]"
   ]
  },
  {
   "cell_type": "code",
   "execution_count": null,
   "metadata": {},
   "outputs": [],
   "source": [
    "Short_Shoe_description[:100]"
   ]
  },
  {
   "cell_type": "code",
   "execution_count": null,
   "metadata": {},
   "outputs": [],
   "source": [
    "Price[:100]"
   ]
  },
  {
   "cell_type": "code",
   "execution_count": null,
   "metadata": {},
   "outputs": [],
   "source": [
    "driver.close()"
   ]
  },
  {
   "cell_type": "markdown",
   "metadata": {},
   "source": [
    "### 10.Webpage https://www.amazon.in/"
   ]
  },
  {
   "cell_type": "code",
   "execution_count": null,
   "metadata": {},
   "outputs": [],
   "source": [
    "import selenium\n",
    "from selenium import webdriver\n"
   ]
  },
  {
   "cell_type": "code",
   "execution_count": null,
   "metadata": {},
   "outputs": [],
   "source": [
    "driver=webdriver.Chrome(r\"C:\\Users\\eshan\\Downloads\\chromedriver_win32\\chromedriver.exe\")"
   ]
  },
  {
   "cell_type": "code",
   "execution_count": null,
   "metadata": {},
   "outputs": [],
   "source": [
    "url=\"https://www.amazon.in/s?k=Laptops&i=computers&rh=n%3A1375424031%2Cp_n_feature_thirteen_browse-bin%3A12598163031%7C16757432031&dc&qid=1607199996&rnid=12598141031&ref=sr_nr_p_n_feature_thirteen_browse-bin_15\""
   ]
  },
  {
   "cell_type": "code",
   "execution_count": null,
   "metadata": {},
   "outputs": [],
   "source": [
    "driver.get(url)"
   ]
  },
  {
   "cell_type": "code",
   "execution_count": null,
   "metadata": {},
   "outputs": [],
   "source": [
    "Title=[]\n",
    "Ratings=[]\n",
    "Price=[]"
   ]
  },
  {
   "cell_type": "code",
   "execution_count": null,
   "metadata": {},
   "outputs": [],
   "source": [
    "title=driver.find_elements_by_xpath(\"//span[@class='a-size-medium a-color-base a-text-normal']\")\n",
    "rating=driver.find_elements_by_xpath(\"//a[@class='a-popover-trigger a-declarative']/i/span\")\n",
    "price=driver.find_elements_by_xpath(\"//span[@class='a-price-whole']\")\n",
    "\n",
    "for i in title:\n",
    "    name=i.text\n",
    "    Title.append(name)\n",
    "    \n",
    "for i in rating:\n",
    "    rate=i.get_attribute(\"innerText\")\n",
    "    Ratings.append(rate)\n",
    "    \n",
    "for i in price:\n",
    "    pri=i.text\n",
    "    Price.append(pri)\n",
    "    \n",
    "print(Title)\n",
    "print('\\n')\n",
    "print(Ratings)\n",
    "print('\\n')\n",
    "print(Price)"
   ]
  },
  {
   "cell_type": "code",
   "execution_count": null,
   "metadata": {},
   "outputs": [],
   "source": [
    "Title[:10]"
   ]
  },
  {
   "cell_type": "code",
   "execution_count": null,
   "metadata": {},
   "outputs": [],
   "source": [
    "Ratings[:10]"
   ]
  },
  {
   "cell_type": "code",
   "execution_count": null,
   "metadata": {},
   "outputs": [],
   "source": [
    "Price[:10]"
   ]
  },
  {
   "cell_type": "code",
   "execution_count": null,
   "metadata": {},
   "outputs": [],
   "source": [
    "driver.close()"
   ]
  },
  {
   "cell_type": "code",
   "execution_count": null,
   "metadata": {},
   "outputs": [],
   "source": []
  }
 ],
 "metadata": {
  "kernelspec": {
   "display_name": "Python 3",
   "language": "python",
   "name": "python3"
  },
  "language_info": {
   "codemirror_mode": {
    "name": "ipython",
    "version": 3
   },
   "file_extension": ".py",
   "mimetype": "text/x-python",
   "name": "python",
   "nbconvert_exporter": "python",
   "pygments_lexer": "ipython3",
   "version": "3.7.6"
  }
 },
 "nbformat": 4,
 "nbformat_minor": 4
}
